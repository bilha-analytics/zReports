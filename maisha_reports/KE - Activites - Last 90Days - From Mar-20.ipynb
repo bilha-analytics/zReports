{
 "cells": [
  {
   "cell_type": "raw",
   "metadata": {},
   "source": [
    "<script>\n",
    "  function code_toggle() {\n",
    "    if (code_shown){\n",
    "      $('div.input').hide('500');\n",
    "      $('#toggleButton').val('Show Code')\n",
    "    } else {\n",
    "      $('div.input').show('500');\n",
    "      $('#toggleButton').val('Hide Code')\n",
    "    }\n",
    "    code_shown = !code_shown\n",
    "  }\n",
    "\n",
    "  $( document ).ready(function(){\n",
    "    code_shown=false;\n",
    "    $('div.input').hide()\n",
    "  });\n",
    "</script>\n",
    "<form action=\"javascript:code_toggle()\"><input type=\"submit\" id=\"toggleButton\" value=\"Show Code\"></form>"
   ]
  },
  {
   "cell_type": "markdown",
   "metadata": {
    "toc": true
   },
   "source": [
    "<h1>Table of Contents<span class=\"tocSkip\"></span></h1>\n",
    "<div class=\"toc\"><ul class=\"toc-item\"><li><span><a href=\"#Understanding-Sales\" data-toc-modified-id=\"Understanding-Sales-1\"><span class=\"toc-item-num\">1&nbsp;&nbsp;</span>Understanding Sales</a></span><ul class=\"toc-item\"><li><span><a href=\"#Introduction\" data-toc-modified-id=\"Introduction-1.1\"><span class=\"toc-item-num\">1.1&nbsp;&nbsp;</span>Introduction</a></span><ul class=\"toc-item\"><li><span><a href=\"#Data-structure\" data-toc-modified-id=\"Data-structure-1.1.1\"><span class=\"toc-item-num\">1.1.1&nbsp;&nbsp;</span>Data structure</a></span></li><li><span><a href=\"#Limitations\" data-toc-modified-id=\"Limitations-1.1.2\"><span class=\"toc-item-num\">1.1.2&nbsp;&nbsp;</span>Limitations</a></span></li><li><span><a href=\"#View-of-All-Data\" data-toc-modified-id=\"View-of-All-Data-1.1.3\"><span class=\"toc-item-num\">1.1.3&nbsp;&nbsp;</span>View of All Data</a></span></li><li><span><a href=\"#Summary-Stats\" data-toc-modified-id=\"Summary-Stats-1.1.4\"><span class=\"toc-item-num\">1.1.4&nbsp;&nbsp;</span>Summary Stats</a></span></li></ul></li><li><span><a href=\"#Correlations-Between-Health-&amp;-Operations\" data-toc-modified-id=\"Correlations-Between-Health-&amp;-Operations-1.2\"><span class=\"toc-item-num\">1.2&nbsp;&nbsp;</span>Correlations Between Health &amp; Operations</a></span><ul class=\"toc-item\"><li><span><a href=\"#KPIs\" data-toc-modified-id=\"KPIs-1.2.1\"><span class=\"toc-item-num\">1.2.1&nbsp;&nbsp;</span>KPIs</a></span></li><li><span><a href=\"#Diseases/Cases\" data-toc-modified-id=\"Diseases/Cases-1.2.2\"><span class=\"toc-item-num\">1.2.2&nbsp;&nbsp;</span>Diseases/Cases</a></span></li><li><span><a href=\"#Sales-Activity\" data-toc-modified-id=\"Sales-Activity-1.2.3\"><span class=\"toc-item-num\">1.2.3&nbsp;&nbsp;</span>Sales Activity</a></span><ul class=\"toc-item\"><li><span><a href=\"#Meets-Sales-Target\" data-toc-modified-id=\"Meets-Sales-Target-1.2.3.1\"><span class=\"toc-item-num\">1.2.3.1&nbsp;&nbsp;</span>Meets Sales Target</a></span></li><li><span><a href=\"#Misses-Sales-Target\" data-toc-modified-id=\"Misses-Sales-Target-1.2.3.2\"><span class=\"toc-item-num\">1.2.3.2&nbsp;&nbsp;</span>Misses Sales Target</a></span></li><li><span><a href=\"#Regressions\" data-toc-modified-id=\"Regressions-1.2.3.3\"><span class=\"toc-item-num\">1.2.3.3&nbsp;&nbsp;</span>Regressions</a></span></li></ul></li></ul></li></ul></li></ul></div>"
   ]
  },
  {
   "cell_type": "code",
   "execution_count": 1,
   "metadata": {
    "collapsed": true
   },
   "outputs": [],
   "source": [
    "## Setup\n",
    "# load libs/modules\n",
    "%run \"../utils/load_envz.ipynb\""
   ]
  },
  {
   "cell_type": "code",
   "execution_count": 2,
   "metadata": {
    "collapsed": true
   },
   "outputs": [],
   "source": [
    "# Load data set \n",
    "DATA_DIR = \"../dataset\"\n",
    "DATA_FILE = \"targeted_chv_support_ke-20180320.csv\" \n",
    "dataset = pd.read_csv( \"%s/%s\" % (DATA_DIR, DATA_FILE) )\n",
    "\n",
    "dataset.drop( \"Phone Number\", axis=1, inplace=True )"
   ]
  },
  {
   "cell_type": "code",
   "execution_count": 3,
   "metadata": {
    "collapsed": true
   },
   "outputs": [],
   "source": [
    "## themes | variable - outcome mapping\n",
    "argz_Units = [\"CHP ID\", \"Households Registered\"] \n",
    "argz_Ops = [ \"Sales\", \"Community Events\"]\n",
    "argz_pregoz = [ \"Pregnancy\", \"PNC Visit Rate\", \"PNC Visit Missed - #\"]\n",
    "argz_U5_care = [\"Total U5 Assessments\", \"Total U5 Treatments\"]\n",
    "argz_U1_care = [\"Total U1 Assessments\", \"Total U1 Treatments\"]\n",
    "argz_malaria = [ \"All Malaria Assessments\", \"All Malaria Treatments\", \"Act 6pack Issue\", \"mRDT Used\", \"%mRDT\"]\n",
    "argz_U5_diseases = [\"U5 Malaria\", \"U5 Diarrhea\", \"U5 Pneumonia\"]\n",
    "\n",
    "# \"Total U1 Assessments\",  assumes U1 follows U5 \n",
    "argz_EPMs = [\"Households Registered\", \"Sales\", \"Community Events\", \"Total Child Assessments\", \"Pregnancy\"]\n",
    "\n",
    "## Additional Columns\n",
    "dataset[\"Country\"] = \"KE\"\n",
    "dataset[\"Total Child Assessments\"] = dataset[\"Total U1 Assessments\"] + dataset[\"Total U5 Assessments\"]\n",
    "dataset[\"Total Child Treatments\"] = dataset[\"Total U1 Treatments\"] + dataset[\"Total U5 Treatments\"]\n",
    "#dataset[\"HHQuintiles\"] = pd.qcut( dataset[\"Households Registered\"], 5, labels=[\"HH_Quint_1\", \"HH_Quint_2\", \"HH_Quint_3\", \"HH_Quint_4\", \"HH_Quint_5\"])\n",
    "dnul = pd.Series( [\"Households Registered\"]).apply( lambda x: quintilize(dataset, x, labelzPrefix=\"HH_Quints\" ) )\n",
    "dataset[\"Class_Sales_Levels\"] = np.where( dataset[\"Sales\"] < 2040 , \"Below_2040\", \n",
    "                                         np.where(dataset[\"Sales\"] < 4080, \"2040_to_4080\", \n",
    "                                                 np.where(dataset[\"Sales\"] < 6120, \"4080_to_6120\", \n",
    "                                                         np.where(dataset[\"Sales\"] < 8160, \"6120_to_8160\", \n",
    "                                                                 np.where(dataset[\"Sales\"] < 10200, \"8160_to_10200\", \"Above_10K\")))) ) \n"
   ]
  },
  {
   "cell_type": "markdown",
   "metadata": {},
   "source": [
    "# Understanding Sales\n",
    "\n",
    "## Introduction\n",
    "\n",
    "- Looking at KE CHP data for last 90 days as at 20-Mar-2018\n",
    "\n",
    "\n",
    "- Some questions of interest\n",
    "    - What makes sales better?\n",
    "    - What relationships between sales and health activities? \n",
    "\n",
    "- The presented findings are conjectures and not prescriptive or suggestive of causality\n",
    "    - Need interpretation with more context on how the variables follow from the initiative/program workflows. \n",
    "\n",
    "\n",
    "### Data structure \n",
    "- There are 1493 CHPs. Each record relates to a CHP.\n",
    "- Each record is an aggregate of a CHPs activities for the period (90 days until 20-Mar)\n",
    "- Outliers are excluded in the analysis. Identification of outliers is based on household registration distribution. \n",
    "\n",
    "\n",
    "### Limitations\n",
    "- Data does not have geographic mapping \n",
    "- No daily records for time series exploration \n",
    "\n"
   ]
  },
  {
   "cell_type": "code",
   "execution_count": 4,
   "metadata": {
    "scrolled": false
   },
   "outputs": [
    {
     "data": {
      "image/png": "[encoded data removed]",
      "text/plain": [
       "<matplotlib.figure.Figure at 0x2756a4d98d0>"
      ]
     },
     "metadata": {},
     "output_type": "display_data"
    }
   ],
   "source": [
    "b4_g = sns.distplot( dataset[\"Households Registered\"])\n",
    "b4_s = sampleStructure(dataset, \"Country\") \n",
    "b4_d = summarizer( dataset )"
   ]
  },
  {
   "cell_type": "code",
   "execution_count": 5,
   "metadata": {},
   "outputs": [
    {
     "data": {
      "image/png": "[encoded data removed]",
      "text/plain": [
       "<matplotlib.figure.Figure at 0x2756a7daf98>"
      ]
     },
     "metadata": {},
     "output_type": "display_data"
    }
   ],
   "source": [
    "\n",
    "## Remove outliers\n",
    "# updating dataset to HH > 20 and < 250 \n",
    "dt_outliers = dataset[ (dataset[\"Households Registered\"] < 20) | (dataset[\"Households Registered\"] > 250) ]\n",
    "dataset.drop( dt_outliers.index, inplace=True) #<< TODO: go back to boolean indexing\n",
    "\n",
    "a4_g = sns.distplot( dataset[\"Households Registered\"])\n",
    "a4_s = sampleStructure(dataset, \"Country\") \n",
    "a4_d = summarizer( dataset )"
   ]
  },
  {
   "cell_type": "markdown",
   "metadata": {},
   "source": [
    "### View of All Data\n",
    "\n",
    "For this section outliers are included.\n",
    "\n",
    "- There are 1493 CHPs in the period\n",
    "    - Average # households per CHP is 100\n",
    "    - Total of 148,764 households registered \n",
    "\n",
    "\n",
    "- Total Sales of KES 646,630\n",
    "    - Average sales per CHP is kES 433 \n",
    "    "
   ]
  },
  {
   "cell_type": "code",
   "execution_count": 6,
   "metadata": {},
   "outputs": [
    {
     "name": "stdout",
     "output_type": "stream",
     "text": [
      "All Data Including Outliers - Counts and Averages per CHP\n"
     ]
    },
    {
     "data": {
      "text/html": [
       "<div>\n",
       "<style>\n",
       "    .dataframe thead tr:only-child th {\n",
       "        text-align: right;\n",
       "    }\n",
       "\n",
       "    .dataframe thead th {\n",
       "        text-align: left;\n",
       "    }\n",
       "\n",
       "    .dataframe tbody tr th {\n",
       "        vertical-align: top;\n",
       "    }\n",
       "</style>\n",
       "<table border=\"1\" class=\"dataframe\">\n",
       "  <thead>\n",
       "    <tr>\n",
       "      <th></th>\n",
       "      <th>CHP ID</th>\n",
       "      <th colspan=\"2\" halign=\"left\">Households Registered</th>\n",
       "      <th colspan=\"2\" halign=\"left\">Sales</th>\n",
       "      <th colspan=\"2\" halign=\"left\">Pregnancy</th>\n",
       "      <th colspan=\"2\" halign=\"left\">Community Events</th>\n",
       "      <th colspan=\"2\" halign=\"left\">All Malaria Assessments</th>\n",
       "      <th colspan=\"2\" halign=\"left\">Total U5 Assessments</th>\n",
       "      <th colspan=\"2\" halign=\"left\">Total U1 Assessments</th>\n",
       "    </tr>\n",
       "    <tr>\n",
       "      <th></th>\n",
       "      <th># CHPs</th>\n",
       "      <th># HHs</th>\n",
       "      <th>Avg.CHP.Size</th>\n",
       "      <th>KES Sales</th>\n",
       "      <th>Avg.CHP Sales</th>\n",
       "      <th># Pregoz Cases</th>\n",
       "      <th>Avg.CHP Pregoz</th>\n",
       "      <th># Events</th>\n",
       "      <th>Avg.CHP Events</th>\n",
       "      <th># Malaria Cases</th>\n",
       "      <th>Avg.CHP Malaria</th>\n",
       "      <th># Child Cases</th>\n",
       "      <th>Avg.CHP U5</th>\n",
       "      <th># U1 Cases</th>\n",
       "      <th>Avg.CHP U1</th>\n",
       "    </tr>\n",
       "    <tr>\n",
       "      <th>Country</th>\n",
       "      <th></th>\n",
       "      <th></th>\n",
       "      <th></th>\n",
       "      <th></th>\n",
       "      <th></th>\n",
       "      <th></th>\n",
       "      <th></th>\n",
       "      <th></th>\n",
       "      <th></th>\n",
       "      <th></th>\n",
       "      <th></th>\n",
       "      <th></th>\n",
       "      <th></th>\n",
       "      <th></th>\n",
       "      <th></th>\n",
       "    </tr>\n",
       "  </thead>\n",
       "  <tbody>\n",
       "    <tr>\n",
       "      <th>KE</th>\n",
       "      <td>1493</td>\n",
       "      <td>148764</td>\n",
       "      <td>100.0</td>\n",
       "      <td>646630.0</td>\n",
       "      <td>433.0</td>\n",
       "      <td>695</td>\n",
       "      <td>0.0</td>\n",
       "      <td>722</td>\n",
       "      <td>0.0</td>\n",
       "      <td>4987</td>\n",
       "      <td>3.0</td>\n",
       "      <td>9600</td>\n",
       "      <td>6.0</td>\n",
       "      <td>2195</td>\n",
       "      <td>1.0</td>\n",
       "    </tr>\n",
       "  </tbody>\n",
       "</table>\n",
       "</div>"
      ],
      "text/plain": [
       "        CHP ID Households Registered                  Sales                \\\n",
       "        # CHPs                 # HHs Avg.CHP.Size KES Sales Avg.CHP Sales   \n",
       "Country                                                                     \n",
       "KE        1493                148764        100.0  646630.0         433.0   \n",
       "\n",
       "             Pregnancy                Community Events                 \\\n",
       "        # Pregoz Cases Avg.CHP Pregoz         # Events Avg.CHP Events   \n",
       "Country                                                                 \n",
       "KE                 695            0.0              722            0.0   \n",
       "\n",
       "        All Malaria Assessments                 Total U5 Assessments  \\\n",
       "                # Malaria Cases Avg.CHP Malaria        # Child Cases   \n",
       "Country                                                                \n",
       "KE                         4987             3.0                 9600   \n",
       "\n",
       "                   Total U1 Assessments             \n",
       "        Avg.CHP U5           # U1 Cases Avg.CHP U1  \n",
       "Country                                             \n",
       "KE             6.0                 2195        1.0  "
      ]
     },
     "execution_count": 6,
     "metadata": {},
     "output_type": "execute_result"
    }
   ],
   "source": [
    "\n",
    "print( \"All Data Including Outliers - Counts and Averages per CHP\")\n",
    "b4_s"
   ]
  },
  {
   "cell_type": "markdown",
   "metadata": {},
   "source": [
    "### Summary Stats\n",
    "\n",
    "For this section outliers are included.\n"
   ]
  },
  {
   "cell_type": "code",
   "execution_count": 7,
   "metadata": {
    "scrolled": true
   },
   "outputs": [
    {
     "data": {
      "text/html": [
       "<div>\n",
       "<style>\n",
       "    .dataframe thead tr:only-child th {\n",
       "        text-align: right;\n",
       "    }\n",
       "\n",
       "    .dataframe thead th {\n",
       "        text-align: left;\n",
       "    }\n",
       "\n",
       "    .dataframe tbody tr th {\n",
       "        vertical-align: top;\n",
       "    }\n",
       "</style>\n",
       "<table border=\"1\" class=\"dataframe\">\n",
       "  <thead>\n",
       "    <tr style=\"text-align: right;\">\n",
       "      <th></th>\n",
       "      <th>Pregnancy</th>\n",
       "      <th>PNC Visit Rate</th>\n",
       "      <th>PNC Visit Missed - #</th>\n",
       "      <th>Total U1 Assessments</th>\n",
       "      <th>Total U1 Treatments</th>\n",
       "      <th>Total U5 Assessments</th>\n",
       "      <th>Total U5 Treatments</th>\n",
       "      <th>U5 Malaria</th>\n",
       "      <th>U5 Diarrhea</th>\n",
       "      <th>U5 Pneumonia</th>\n",
       "      <th>...</th>\n",
       "      <th>%mRDT</th>\n",
       "      <th>All Malaria Assessments</th>\n",
       "      <th>All Malaria Treatments</th>\n",
       "      <th>Act 6pack Issue</th>\n",
       "      <th>mRDT Used</th>\n",
       "      <th>Sales</th>\n",
       "      <th>Community Events</th>\n",
       "      <th>Households Registered</th>\n",
       "      <th>Total Child Assessments</th>\n",
       "      <th>Total Child Treatments</th>\n",
       "    </tr>\n",
       "  </thead>\n",
       "  <tbody>\n",
       "    <tr>\n",
       "      <th>count</th>\n",
       "      <td>1493.00</td>\n",
       "      <td>1493.00</td>\n",
       "      <td>1493.00</td>\n",
       "      <td>1493.00</td>\n",
       "      <td>1493.00</td>\n",
       "      <td>1493.00</td>\n",
       "      <td>1493.00</td>\n",
       "      <td>1493.00</td>\n",
       "      <td>1493.00</td>\n",
       "      <td>1493.00</td>\n",
       "      <td>...</td>\n",
       "      <td>1493.00</td>\n",
       "      <td>1493.00</td>\n",
       "      <td>1493.00</td>\n",
       "      <td>1493.00</td>\n",
       "      <td>1493.00</td>\n",
       "      <td>1493.00</td>\n",
       "      <td>1493.00</td>\n",
       "      <td>1493.00</td>\n",
       "      <td>1493.0</td>\n",
       "      <td>1493.00</td>\n",
       "    </tr>\n",
       "    <tr>\n",
       "      <th>mean</th>\n",
       "      <td>0.47</td>\n",
       "      <td>0.22</td>\n",
       "      <td>0.21</td>\n",
       "      <td>1.47</td>\n",
       "      <td>0.57</td>\n",
       "      <td>6.43</td>\n",
       "      <td>2.99</td>\n",
       "      <td>1.72</td>\n",
       "      <td>0.63</td>\n",
       "      <td>0.63</td>\n",
       "      <td>...</td>\n",
       "      <td>0.52</td>\n",
       "      <td>3.34</td>\n",
       "      <td>2.23</td>\n",
       "      <td>4.30</td>\n",
       "      <td>3.34</td>\n",
       "      <td>433.11</td>\n",
       "      <td>0.48</td>\n",
       "      <td>99.64</td>\n",
       "      <td>7.9</td>\n",
       "      <td>3.56</td>\n",
       "    </tr>\n",
       "    <tr>\n",
       "      <th>std</th>\n",
       "      <td>0.78</td>\n",
       "      <td>0.40</td>\n",
       "      <td>0.50</td>\n",
       "      <td>1.75</td>\n",
       "      <td>1.05</td>\n",
       "      <td>5.95</td>\n",
       "      <td>3.91</td>\n",
       "      <td>3.00</td>\n",
       "      <td>1.20</td>\n",
       "      <td>1.44</td>\n",
       "      <td>...</td>\n",
       "      <td>0.46</td>\n",
       "      <td>5.24</td>\n",
       "      <td>4.30</td>\n",
       "      <td>9.52</td>\n",
       "      <td>5.24</td>\n",
       "      <td>1199.99</td>\n",
       "      <td>1.07</td>\n",
       "      <td>48.08</td>\n",
       "      <td>7.4</td>\n",
       "      <td>4.73</td>\n",
       "    </tr>\n",
       "    <tr>\n",
       "      <th>min</th>\n",
       "      <td>0.00</td>\n",
       "      <td>0.00</td>\n",
       "      <td>0.00</td>\n",
       "      <td>0.00</td>\n",
       "      <td>0.00</td>\n",
       "      <td>0.00</td>\n",
       "      <td>0.00</td>\n",
       "      <td>0.00</td>\n",
       "      <td>0.00</td>\n",
       "      <td>0.00</td>\n",
       "      <td>...</td>\n",
       "      <td>0.00</td>\n",
       "      <td>0.00</td>\n",
       "      <td>0.00</td>\n",
       "      <td>0.00</td>\n",
       "      <td>0.00</td>\n",
       "      <td>-2156.56</td>\n",
       "      <td>0.00</td>\n",
       "      <td>0.00</td>\n",
       "      <td>0.0</td>\n",
       "      <td>0.00</td>\n",
       "    </tr>\n",
       "    <tr>\n",
       "      <th>25%</th>\n",
       "      <td>0.00</td>\n",
       "      <td>0.00</td>\n",
       "      <td>0.00</td>\n",
       "      <td>0.00</td>\n",
       "      <td>0.00</td>\n",
       "      <td>0.00</td>\n",
       "      <td>0.00</td>\n",
       "      <td>0.00</td>\n",
       "      <td>0.00</td>\n",
       "      <td>0.00</td>\n",
       "      <td>...</td>\n",
       "      <td>0.00</td>\n",
       "      <td>0.00</td>\n",
       "      <td>0.00</td>\n",
       "      <td>0.00</td>\n",
       "      <td>0.00</td>\n",
       "      <td>0.00</td>\n",
       "      <td>0.00</td>\n",
       "      <td>75.00</td>\n",
       "      <td>0.0</td>\n",
       "      <td>0.00</td>\n",
       "    </tr>\n",
       "    <tr>\n",
       "      <th>50%</th>\n",
       "      <td>0.00</td>\n",
       "      <td>0.00</td>\n",
       "      <td>0.00</td>\n",
       "      <td>1.00</td>\n",
       "      <td>0.00</td>\n",
       "      <td>6.00</td>\n",
       "      <td>2.00</td>\n",
       "      <td>0.00</td>\n",
       "      <td>0.00</td>\n",
       "      <td>0.00</td>\n",
       "      <td>...</td>\n",
       "      <td>0.60</td>\n",
       "      <td>1.00</td>\n",
       "      <td>0.00</td>\n",
       "      <td>0.00</td>\n",
       "      <td>1.00</td>\n",
       "      <td>0.00</td>\n",
       "      <td>0.00</td>\n",
       "      <td>100.00</td>\n",
       "      <td>7.0</td>\n",
       "      <td>2.00</td>\n",
       "    </tr>\n",
       "    <tr>\n",
       "      <th>75%</th>\n",
       "      <td>1.00</td>\n",
       "      <td>0.00</td>\n",
       "      <td>0.00</td>\n",
       "      <td>2.00</td>\n",
       "      <td>1.00</td>\n",
       "      <td>11.00</td>\n",
       "      <td>4.00</td>\n",
       "      <td>2.00</td>\n",
       "      <td>1.00</td>\n",
       "      <td>1.00</td>\n",
       "      <td>...</td>\n",
       "      <td>1.00</td>\n",
       "      <td>5.00</td>\n",
       "      <td>3.00</td>\n",
       "      <td>5.00</td>\n",
       "      <td>5.00</td>\n",
       "      <td>347.84</td>\n",
       "      <td>0.00</td>\n",
       "      <td>125.00</td>\n",
       "      <td>13.0</td>\n",
       "      <td>5.00</td>\n",
       "    </tr>\n",
       "    <tr>\n",
       "      <th>max</th>\n",
       "      <td>5.00</td>\n",
       "      <td>1.00</td>\n",
       "      <td>4.00</td>\n",
       "      <td>10.00</td>\n",
       "      <td>7.00</td>\n",
       "      <td>37.00</td>\n",
       "      <td>26.00</td>\n",
       "      <td>22.00</td>\n",
       "      <td>11.00</td>\n",
       "      <td>22.00</td>\n",
       "      <td>...</td>\n",
       "      <td>1.00</td>\n",
       "      <td>55.00</td>\n",
       "      <td>51.00</td>\n",
       "      <td>128.00</td>\n",
       "      <td>55.00</td>\n",
       "      <td>18032.34</td>\n",
       "      <td>9.00</td>\n",
       "      <td>356.00</td>\n",
       "      <td>47.0</td>\n",
       "      <td>33.00</td>\n",
       "    </tr>\n",
       "  </tbody>\n",
       "</table>\n",
       "<p>8 rows × 22 columns</p>\n",
       "</div>"
      ],
      "text/plain": [
       "       Pregnancy  PNC Visit Rate  PNC Visit Missed - #  Total U1 Assessments  \\\n",
       "count    1493.00         1493.00               1493.00               1493.00   \n",
       "mean        0.47            0.22                  0.21                  1.47   \n",
       "std         0.78            0.40                  0.50                  1.75   \n",
       "min         0.00            0.00                  0.00                  0.00   \n",
       "25%         0.00            0.00                  0.00                  0.00   \n",
       "50%         0.00            0.00                  0.00                  1.00   \n",
       "75%         1.00            0.00                  0.00                  2.00   \n",
       "max         5.00            1.00                  4.00                 10.00   \n",
       "\n",
       "       Total U1 Treatments  Total U5 Assessments  Total U5 Treatments  \\\n",
       "count              1493.00               1493.00              1493.00   \n",
       "mean                  0.57                  6.43                 2.99   \n",
       "std                   1.05                  5.95                 3.91   \n",
       "min                   0.00                  0.00                 0.00   \n",
       "25%                   0.00                  0.00                 0.00   \n",
       "50%                   0.00                  6.00                 2.00   \n",
       "75%                   1.00                 11.00                 4.00   \n",
       "max                   7.00                 37.00                26.00   \n",
       "\n",
       "       U5 Malaria  U5 Diarrhea  U5 Pneumonia           ...              %mRDT  \\\n",
       "count     1493.00      1493.00       1493.00           ...            1493.00   \n",
       "mean         1.72         0.63          0.63           ...               0.52   \n",
       "std          3.00         1.20          1.44           ...               0.46   \n",
       "min          0.00         0.00          0.00           ...               0.00   \n",
       "25%          0.00         0.00          0.00           ...               0.00   \n",
       "50%          0.00         0.00          0.00           ...               0.60   \n",
       "75%          2.00         1.00          1.00           ...               1.00   \n",
       "max         22.00        11.00         22.00           ...               1.00   \n",
       "\n",
       "       All Malaria Assessments  All Malaria Treatments  Act 6pack Issue  \\\n",
       "count                  1493.00                 1493.00          1493.00   \n",
       "mean                      3.34                    2.23             4.30   \n",
       "std                       5.24                    4.30             9.52   \n",
       "min                       0.00                    0.00             0.00   \n",
       "25%                       0.00                    0.00             0.00   \n",
       "50%                       1.00                    0.00             0.00   \n",
       "75%                       5.00                    3.00             5.00   \n",
       "max                      55.00                   51.00           128.00   \n",
       "\n",
       "       mRDT Used     Sales  Community Events  Households Registered  \\\n",
       "count    1493.00   1493.00           1493.00                1493.00   \n",
       "mean        3.34    433.11              0.48                  99.64   \n",
       "std         5.24   1199.99              1.07                  48.08   \n",
       "min         0.00  -2156.56              0.00                   0.00   \n",
       "25%         0.00      0.00              0.00                  75.00   \n",
       "50%         1.00      0.00              0.00                 100.00   \n",
       "75%         5.00    347.84              0.00                 125.00   \n",
       "max        55.00  18032.34              9.00                 356.00   \n",
       "\n",
       "       Total Child Assessments  Total Child Treatments  \n",
       "count                   1493.0                 1493.00  \n",
       "mean                       7.9                    3.56  \n",
       "std                        7.4                    4.73  \n",
       "min                        0.0                    0.00  \n",
       "25%                        0.0                    0.00  \n",
       "50%                        7.0                    2.00  \n",
       "75%                       13.0                    5.00  \n",
       "max                       47.0                   33.00  \n",
       "\n",
       "[8 rows x 22 columns]"
      ]
     },
     "execution_count": 7,
     "metadata": {},
     "output_type": "execute_result"
    }
   ],
   "source": [
    "#dataset[ [\"Total Child Assessments\", \"Total Child Treatments\", \"All Malaria Assessments\",\"U5 Malaria\", \"U5 Diarrhea\", \"U5 Pneumonia\", \"Pregnancy\", \"Community Events\"]].plot(kind=\"box\", figsize=(17,9), ylim=(-5,35))\n",
    "\n",
    "b4_d"
   ]
  },
  {
   "cell_type": "markdown",
   "metadata": {},
   "source": [
    "## Correlations Between Health & Operations\n",
    "\n",
    "** *From this section onwards outliers are removed.* **\n",
    "\n",
    "\n",
    "**Interprating Correlations:** Correlation coefficients whose magnitude are\n",
    "- between 0.9 and 1.0 indicate variables which can be considered very highly correlated.\n",
    "- between 0.7 and 0.9 indicate variables which can be considered highly correlated.\n",
    "- between 0.5 and 0.7 indicate variables which can be considered moderately correlated.\n",
    "- between 0.3 and 0.5 indicate variables which have a low correlation.\n",
    "- less than 0.3 have little if any (linear) correlation.\n",
    "Note though, the above may change depending on nature of outcomes/study. E.G. for social sciences 0.3 may be a threshold for strong correlations. \n",
    "- TBD: link reference \n",
    "\n",
    "\n",
    "### KPIs\n",
    "\n",
    "**Community events relate more with child assessments than with sales. ** \n",
    "- An expectation is that community events are opportunities for driving sales. \n",
    "- Comminity events are most associated with child assessments at 0.35. \n",
    "- Association with sales is little if at all at 0.17. \n",
    "\n",
    "\n",
    "\n",
    "**We potentially rarely discover new families or households outside of those we already service in some way.** \n",
    "- New pregnancies are discovered within already known households whose children are attended to OR vice versa \n",
    "    - Pregnancy is most correlated with child assessments (0.28) albeit weakly \n",
    "    \n",
    "- Household registration have not particular associations with the other indicators \n",
    "    - Correlations are very low for households registered suggesting little associations \n",
    "    - The largest magnitude is 0.15 with pregnancy registration.\n",
    " \n",
    "    \n",
    "**Child care is delivered around community events and pregnancy registration OR vice versa** \n",
    "- Child care is associated with community events (0.35) and pregnancy (0.28)\n",
    " \n",
    "\n",
    "PS: - **Households Registered** could indicate reach.  "
   ]
  },
  {
   "cell_type": "code",
   "execution_count": 8,
   "metadata": {},
   "outputs": [
    {
     "name": "stdout",
     "output_type": "stream",
     "text": [
      "1. Correlation of the key KPIs\n"
     ]
    },
    {
     "data": {
      "text/html": [
       "<div>\n",
       "<style>\n",
       "    .dataframe thead tr:only-child th {\n",
       "        text-align: right;\n",
       "    }\n",
       "\n",
       "    .dataframe thead th {\n",
       "        text-align: left;\n",
       "    }\n",
       "\n",
       "    .dataframe tbody tr th {\n",
       "        vertical-align: top;\n",
       "    }\n",
       "</style>\n",
       "<table border=\"1\" class=\"dataframe\">\n",
       "  <thead>\n",
       "    <tr style=\"text-align: right;\">\n",
       "      <th></th>\n",
       "      <th>Households Registered</th>\n",
       "      <th>Sales</th>\n",
       "      <th>Community Events</th>\n",
       "      <th>Total Child Assessments</th>\n",
       "      <th>Pregnancy</th>\n",
       "    </tr>\n",
       "  </thead>\n",
       "  <tbody>\n",
       "    <tr>\n",
       "      <th>Households Registered</th>\n",
       "      <td>1.000</td>\n",
       "      <td>0.119</td>\n",
       "      <td>0.039</td>\n",
       "      <td>0.079</td>\n",
       "      <td>0.151</td>\n",
       "    </tr>\n",
       "    <tr>\n",
       "      <th>Sales</th>\n",
       "      <td>0.119</td>\n",
       "      <td>1.000</td>\n",
       "      <td>0.167</td>\n",
       "      <td>0.099</td>\n",
       "      <td>0.077</td>\n",
       "    </tr>\n",
       "    <tr>\n",
       "      <th>Community Events</th>\n",
       "      <td>0.039</td>\n",
       "      <td>0.167</td>\n",
       "      <td>1.000</td>\n",
       "      <td>0.350</td>\n",
       "      <td>0.104</td>\n",
       "    </tr>\n",
       "    <tr>\n",
       "      <th>Total Child Assessments</th>\n",
       "      <td>0.079</td>\n",
       "      <td>0.099</td>\n",
       "      <td>0.350</td>\n",
       "      <td>1.000</td>\n",
       "      <td>0.280</td>\n",
       "    </tr>\n",
       "    <tr>\n",
       "      <th>Pregnancy</th>\n",
       "      <td>0.151</td>\n",
       "      <td>0.077</td>\n",
       "      <td>0.104</td>\n",
       "      <td>0.280</td>\n",
       "      <td>1.000</td>\n",
       "    </tr>\n",
       "  </tbody>\n",
       "</table>\n",
       "</div>"
      ],
      "text/plain": [
       "                         Households Registered  Sales  Community Events  \\\n",
       "Households Registered                    1.000  0.119             0.039   \n",
       "Sales                                    0.119  1.000             0.167   \n",
       "Community Events                         0.039  0.167             1.000   \n",
       "Total Child Assessments                  0.079  0.099             0.350   \n",
       "Pregnancy                                0.151  0.077             0.104   \n",
       "\n",
       "                         Total Child Assessments  Pregnancy  \n",
       "Households Registered                      0.079      0.151  \n",
       "Sales                                      0.099      0.077  \n",
       "Community Events                           0.350      0.104  \n",
       "Total Child Assessments                    1.000      0.280  \n",
       "Pregnancy                                  0.280      1.000  "
      ]
     },
     "execution_count": 8,
     "metadata": {},
     "output_type": "execute_result"
    },
    {
     "data": {
      "text/plain": [
       "<matplotlib.axes._subplots.AxesSubplot at 0x2756a4d93c8>"
      ]
     },
     "execution_count": 8,
     "metadata": {},
     "output_type": "execute_result"
    },
    {
     "data": {
      "image/png": "[encoded data removed]",
      "text/plain": [
       "<matplotlib.figure.Figure at 0x2756a8ef588>"
      ]
     },
     "metadata": {},
     "output_type": "display_data"
    }
   ],
   "source": [
    "#plotCorrz( corrz(dataset, argz_EPMs) )\n",
    "print(\"1. Correlation of the key KPIs\")\n",
    "cout = corrz(dataset, argz_EPMs)\n",
    "cout\n",
    "plotCorrz( cout )"
   ]
  },
  {
   "cell_type": "markdown",
   "metadata": {},
   "source": [
    "### Diseases/Cases\n",
    "\n",
    "**Malaria: we likely know how to do it well and consistently** \n",
    "- There are very strong correlations within malaria variables (see first table below).  \n",
    "- Malaria is most correlated with child treaments compared to the other diseases (see second table below). \n",
    " \n",
    "**Pneumonia: Most referral activities may be for pneumonia** and potentially b/c of U1s. \n",
    "- Correlation values are large betwen diarrhoea and pneumonia than with malaria. b/c diarrhoea is a symptom of moderate pneumonia \n",
    "- Correlation with referral f/u is larger for pneumonia (.26)"
   ]
  },
  {
   "cell_type": "code",
   "execution_count": 9,
   "metadata": {},
   "outputs": [
    {
     "name": "stdout",
     "output_type": "stream",
     "text": [
      "2. Correlation within Malaria Variables\n"
     ]
    },
    {
     "data": {
      "text/html": [
       "<div>\n",
       "<style>\n",
       "    .dataframe thead tr:only-child th {\n",
       "        text-align: right;\n",
       "    }\n",
       "\n",
       "    .dataframe thead th {\n",
       "        text-align: left;\n",
       "    }\n",
       "\n",
       "    .dataframe tbody tr th {\n",
       "        vertical-align: top;\n",
       "    }\n",
       "</style>\n",
       "<table border=\"1\" class=\"dataframe\">\n",
       "  <thead>\n",
       "    <tr style=\"text-align: right;\">\n",
       "      <th></th>\n",
       "      <th>All Malaria Assessments</th>\n",
       "      <th>All Malaria Treatments</th>\n",
       "      <th>Act 6pack Issue</th>\n",
       "      <th>mRDT Used</th>\n",
       "      <th>%mRDT</th>\n",
       "      <th>U5 Malaria</th>\n",
       "    </tr>\n",
       "  </thead>\n",
       "  <tbody>\n",
       "    <tr>\n",
       "      <th>All Malaria Assessments</th>\n",
       "      <td>1.000</td>\n",
       "      <td>0.926</td>\n",
       "      <td>0.882</td>\n",
       "      <td>1.000</td>\n",
       "      <td>0.563</td>\n",
       "      <td>0.858</td>\n",
       "    </tr>\n",
       "    <tr>\n",
       "      <th>All Malaria Treatments</th>\n",
       "      <td>0.926</td>\n",
       "      <td>1.000</td>\n",
       "      <td>0.951</td>\n",
       "      <td>0.926</td>\n",
       "      <td>0.473</td>\n",
       "      <td>0.888</td>\n",
       "    </tr>\n",
       "    <tr>\n",
       "      <th>Act 6pack Issue</th>\n",
       "      <td>0.882</td>\n",
       "      <td>0.951</td>\n",
       "      <td>1.000</td>\n",
       "      <td>0.882</td>\n",
       "      <td>0.411</td>\n",
       "      <td>0.747</td>\n",
       "    </tr>\n",
       "    <tr>\n",
       "      <th>mRDT Used</th>\n",
       "      <td>1.000</td>\n",
       "      <td>0.926</td>\n",
       "      <td>0.882</td>\n",
       "      <td>1.000</td>\n",
       "      <td>0.563</td>\n",
       "      <td>0.858</td>\n",
       "    </tr>\n",
       "    <tr>\n",
       "      <th>%mRDT</th>\n",
       "      <td>0.563</td>\n",
       "      <td>0.473</td>\n",
       "      <td>0.411</td>\n",
       "      <td>0.563</td>\n",
       "      <td>1.000</td>\n",
       "      <td>0.508</td>\n",
       "    </tr>\n",
       "    <tr>\n",
       "      <th>U5 Malaria</th>\n",
       "      <td>0.858</td>\n",
       "      <td>0.888</td>\n",
       "      <td>0.747</td>\n",
       "      <td>0.858</td>\n",
       "      <td>0.508</td>\n",
       "      <td>1.000</td>\n",
       "    </tr>\n",
       "  </tbody>\n",
       "</table>\n",
       "</div>"
      ],
      "text/plain": [
       "                         All Malaria Assessments  All Malaria Treatments  \\\n",
       "All Malaria Assessments                    1.000                   0.926   \n",
       "All Malaria Treatments                     0.926                   1.000   \n",
       "Act 6pack Issue                            0.882                   0.951   \n",
       "mRDT Used                                  1.000                   0.926   \n",
       "%mRDT                                      0.563                   0.473   \n",
       "U5 Malaria                                 0.858                   0.888   \n",
       "\n",
       "                         Act 6pack Issue  mRDT Used  %mRDT  U5 Malaria  \n",
       "All Malaria Assessments            0.882      1.000  0.563       0.858  \n",
       "All Malaria Treatments             0.951      0.926  0.473       0.888  \n",
       "Act 6pack Issue                    1.000      0.882  0.411       0.747  \n",
       "mRDT Used                          0.882      1.000  0.563       0.858  \n",
       "%mRDT                              0.411      0.563  1.000       0.508  \n",
       "U5 Malaria                         0.747      0.858  0.508       1.000  "
      ]
     },
     "execution_count": 9,
     "metadata": {},
     "output_type": "execute_result"
    }
   ],
   "source": [
    "## Malaria  \n",
    "print( \"2. Correlation within Malaria Variables\")\n",
    "cout1 = corrz(dataset, argz_malaria+[\"U5 Malaria\"]  )\n",
    "cout1"
   ]
  },
  {
   "cell_type": "code",
   "execution_count": 10,
   "metadata": {},
   "outputs": [
    {
     "name": "stdout",
     "output_type": "stream",
     "text": [
      "3. Correlation within U5 Diseases\n"
     ]
    },
    {
     "data": {
      "text/html": [
       "<div>\n",
       "<style>\n",
       "    .dataframe thead tr:only-child th {\n",
       "        text-align: right;\n",
       "    }\n",
       "\n",
       "    .dataframe thead th {\n",
       "        text-align: left;\n",
       "    }\n",
       "\n",
       "    .dataframe tbody tr th {\n",
       "        vertical-align: top;\n",
       "    }\n",
       "</style>\n",
       "<table border=\"1\" class=\"dataframe\">\n",
       "  <thead>\n",
       "    <tr style=\"text-align: right;\">\n",
       "      <th></th>\n",
       "      <th>U5 Malaria</th>\n",
       "      <th>U5 Diarrhea</th>\n",
       "      <th>U5 Pneumonia</th>\n",
       "      <th>Total Child Assessments</th>\n",
       "      <th>Total Child Treatments</th>\n",
       "      <th>On Time Referral f/u Treatment U5</th>\n",
       "    </tr>\n",
       "  </thead>\n",
       "  <tbody>\n",
       "    <tr>\n",
       "      <th>U5 Malaria</th>\n",
       "      <td>1.000</td>\n",
       "      <td>0.144</td>\n",
       "      <td>0.074</td>\n",
       "      <td>0.505</td>\n",
       "      <td>0.825</td>\n",
       "      <td>0.181</td>\n",
       "    </tr>\n",
       "    <tr>\n",
       "      <th>U5 Diarrhea</th>\n",
       "      <td>0.144</td>\n",
       "      <td>1.000</td>\n",
       "      <td>0.214</td>\n",
       "      <td>0.353</td>\n",
       "      <td>0.515</td>\n",
       "      <td>0.213</td>\n",
       "    </tr>\n",
       "    <tr>\n",
       "      <th>U5 Pneumonia</th>\n",
       "      <td>0.074</td>\n",
       "      <td>0.214</td>\n",
       "      <td>1.000</td>\n",
       "      <td>0.326</td>\n",
       "      <td>0.500</td>\n",
       "      <td>0.256</td>\n",
       "    </tr>\n",
       "    <tr>\n",
       "      <th>Total Child Assessments</th>\n",
       "      <td>0.505</td>\n",
       "      <td>0.353</td>\n",
       "      <td>0.326</td>\n",
       "      <td>1.000</td>\n",
       "      <td>0.626</td>\n",
       "      <td>0.390</td>\n",
       "    </tr>\n",
       "    <tr>\n",
       "      <th>Total Child Treatments</th>\n",
       "      <td>0.825</td>\n",
       "      <td>0.515</td>\n",
       "      <td>0.500</td>\n",
       "      <td>0.626</td>\n",
       "      <td>1.000</td>\n",
       "      <td>0.309</td>\n",
       "    </tr>\n",
       "    <tr>\n",
       "      <th>On Time Referral f/u Treatment U5</th>\n",
       "      <td>0.181</td>\n",
       "      <td>0.213</td>\n",
       "      <td>0.256</td>\n",
       "      <td>0.390</td>\n",
       "      <td>0.309</td>\n",
       "      <td>1.000</td>\n",
       "    </tr>\n",
       "  </tbody>\n",
       "</table>\n",
       "</div>"
      ],
      "text/plain": [
       "                                   U5 Malaria  U5 Diarrhea  U5 Pneumonia  \\\n",
       "U5 Malaria                              1.000        0.144         0.074   \n",
       "U5 Diarrhea                             0.144        1.000         0.214   \n",
       "U5 Pneumonia                            0.074        0.214         1.000   \n",
       "Total Child Assessments                 0.505        0.353         0.326   \n",
       "Total Child Treatments                  0.825        0.515         0.500   \n",
       "On Time Referral f/u Treatment U5       0.181        0.213         0.256   \n",
       "\n",
       "                                   Total Child Assessments  \\\n",
       "U5 Malaria                                           0.505   \n",
       "U5 Diarrhea                                          0.353   \n",
       "U5 Pneumonia                                         0.326   \n",
       "Total Child Assessments                              1.000   \n",
       "Total Child Treatments                               0.626   \n",
       "On Time Referral f/u Treatment U5                    0.390   \n",
       "\n",
       "                                   Total Child Treatments  \\\n",
       "U5 Malaria                                          0.825   \n",
       "U5 Diarrhea                                         0.515   \n",
       "U5 Pneumonia                                        0.500   \n",
       "Total Child Assessments                             0.626   \n",
       "Total Child Treatments                              1.000   \n",
       "On Time Referral f/u Treatment U5                   0.309   \n",
       "\n",
       "                                   On Time Referral f/u Treatment U5  \n",
       "U5 Malaria                                                     0.181  \n",
       "U5 Diarrhea                                                    0.213  \n",
       "U5 Pneumonia                                                   0.256  \n",
       "Total Child Assessments                                        0.390  \n",
       "Total Child Treatments                                         0.309  \n",
       "On Time Referral f/u Treatment U5                              1.000  "
      ]
     },
     "execution_count": 10,
     "metadata": {},
     "output_type": "execute_result"
    },
    {
     "data": {
      "text/plain": [
       "<matplotlib.axes._subplots.AxesSubplot at 0x2756aca5e48>"
      ]
     },
     "execution_count": 10,
     "metadata": {},
     "output_type": "execute_result"
    },
    {
     "data": {
      "image/png": "[encoded data removed]",
      "text/plain": [
       "<matplotlib.figure.Figure at 0x2756a9a20f0>"
      ]
     },
     "metadata": {},
     "output_type": "display_data"
    }
   ],
   "source": [
    "## All U5 Diseases\n",
    "## Diseases \n",
    "print( \"3. Correlation within U5 Diseases\")\n",
    "cout2 = corrz(dataset, argz_U5_diseases+[\"Total Child Assessments\", \"Total Child Treatments\",  \"On Time Referral f/u Treatment U5\"])\n",
    "cout2\n",
    "\n",
    "plotCorrz( corrz(dataset, argz_U5_diseases+[\"On Time Referral f/u Treatment U5\"]) )"
   ]
  },
  {
   "cell_type": "markdown",
   "metadata": {},
   "source": [
    "### Sales Activity\n",
    "\n",
    "- Current sales target is KES 2,040. This is used to derive buckets/categories.\n",
    "- Majority of CHPs (94%) are below that sales target. \n",
    "- For reasonable n within the buckets/categories two categories are used: 1) Meets Target and 2). Misses Target.\n",
    "    - CHPs that meet sales raise 55.5% of total sales\n",
    "    - CHPs that meet sales target have an average sale of KES 4193, compared to KES 224 by those that don't meet targets\n"
   ]
  },
  {
   "cell_type": "code",
   "execution_count": 11,
   "metadata": {
    "scrolled": true
   },
   "outputs": [
    {
     "name": "stdout",
     "output_type": "stream",
     "text": [
      "1. n if we bucket sales in multiples of the target amount of KES 2040\n"
     ]
    },
    {
     "data": {
      "text/plain": [
       "Below_2040       1274\n",
       "2040_to_4080       65\n",
       "4080_to_6120        7\n",
       "6120_to_8160        6\n",
       "Above_10K           4\n",
       "8160_to_10200       3\n",
       "Name: Class_Sales_Levels, dtype: int64"
      ]
     },
     "execution_count": 11,
     "metadata": {},
     "output_type": "execute_result"
    },
    {
     "name": "stdout",
     "output_type": "stream",
     "text": [
      "\n",
      "\n",
      "\n",
      "2. n when rebucketing so that sample sizes within buckets are reasonable\n"
     ]
    },
    {
     "data": {
      "text/plain": [
       "Below_2040      1274\n",
       "2040_to_4080      65\n",
       "Above_4080        20\n",
       "Name: Class_Sales_Levels, dtype: int64"
      ]
     },
     "execution_count": 11,
     "metadata": {},
     "output_type": "execute_result"
    },
    {
     "name": "stdout",
     "output_type": "stream",
     "text": [
      "\n",
      "\n",
      "\n"
     ]
    }
   ],
   "source": [
    "\n",
    "print( \"1. n if we bucket sales in multiples of the target amount of KES 2040\")\n",
    "dataset[\"Class_Sales_Levels\"].value_counts()\n",
    "print(\"\\n\\n\")\n",
    "\n",
    "## Regroup\n",
    "print(\"2. n when rebucketing so that sample sizes within buckets are reasonable\")\n",
    "dataset[\"Class_Sales_Levels\"] = np.where( dataset[\"Sales\"] < 2040 , \"Below_2040\", \n",
    "                                         np.where(dataset[\"Sales\"] < 4080, \"2040_to_4080\",  \"Above_4080\")) \n",
    "dataset[\"Class_Sales_Levels\"].value_counts()\n",
    "print(\"\\n\\n\")\n"
   ]
  },
  {
   "cell_type": "code",
   "execution_count": 12,
   "metadata": {},
   "outputs": [
    {
     "name": "stdout",
     "output_type": "stream",
     "text": [
      "3. n if bucketing into two groups: Meets Target Vs Misses Target (Occam's Razor + dummy variable)\n"
     ]
    },
    {
     "data": {
      "text/plain": [
       "Misses Target    1274\n",
       "Meets Target       85\n",
       "Name: Meets.Sales.Target, dtype: int64"
      ]
     },
     "execution_count": 12,
     "metadata": {},
     "output_type": "execute_result"
    },
    {
     "name": "stdout",
     "output_type": "stream",
     "text": [
      "\n",
      "\n",
      "\n"
     ]
    }
   ],
   "source": [
    "## Regroup \n",
    "print( \"3. n if bucketing into two groups: Meets Target Vs Misses Target (Occam's Razor + dummy variable)\")\n",
    "dataset[\"Meets.Sales.Target\"] = np.where( dataset[\"Sales\"] < 2040, \"Misses Target\", \"Meets Target\")\n",
    "dataset[\"Meets.Sales.Target\"].value_counts()\n",
    "print(\"\\n\\n\")\n",
    "#pd.get_dummies( dataset[\"Meets.Sales.Target\"])\n"
   ]
  },
  {
   "cell_type": "code",
   "execution_count": 13,
   "metadata": {
    "scrolled": true
   },
   "outputs": [
    {
     "name": "stdout",
     "output_type": "stream",
     "text": [
      "\n",
      "4. Sample Tallies by Sales Target buckets\n"
     ]
    },
    {
     "data": {
      "text/html": [
       "<div>\n",
       "<style>\n",
       "    .dataframe thead tr:only-child th {\n",
       "        text-align: right;\n",
       "    }\n",
       "\n",
       "    .dataframe thead th {\n",
       "        text-align: left;\n",
       "    }\n",
       "\n",
       "    .dataframe tbody tr th {\n",
       "        vertical-align: top;\n",
       "    }\n",
       "</style>\n",
       "<table border=\"1\" class=\"dataframe\">\n",
       "  <thead>\n",
       "    <tr>\n",
       "      <th></th>\n",
       "      <th>CHP ID</th>\n",
       "      <th colspan=\"2\" halign=\"left\">Households Registered</th>\n",
       "      <th colspan=\"2\" halign=\"left\">Sales</th>\n",
       "      <th colspan=\"2\" halign=\"left\">Pregnancy</th>\n",
       "      <th colspan=\"2\" halign=\"left\">Community Events</th>\n",
       "      <th colspan=\"2\" halign=\"left\">All Malaria Assessments</th>\n",
       "      <th colspan=\"2\" halign=\"left\">Total U5 Assessments</th>\n",
       "      <th colspan=\"2\" halign=\"left\">Total U1 Assessments</th>\n",
       "    </tr>\n",
       "    <tr>\n",
       "      <th></th>\n",
       "      <th># CHPs</th>\n",
       "      <th># HHs</th>\n",
       "      <th>Avg.CHP.Size</th>\n",
       "      <th>KES Sales</th>\n",
       "      <th>Avg.CHP Sales</th>\n",
       "      <th># Pregoz Cases</th>\n",
       "      <th>Avg.CHP Pregoz</th>\n",
       "      <th># Events</th>\n",
       "      <th>Avg.CHP Events</th>\n",
       "      <th># Malaria Cases</th>\n",
       "      <th>Avg.CHP Malaria</th>\n",
       "      <th># Child Cases</th>\n",
       "      <th>Avg.CHP U5</th>\n",
       "      <th># U1 Cases</th>\n",
       "      <th>Avg.CHP U1</th>\n",
       "    </tr>\n",
       "    <tr>\n",
       "      <th>Meets.Sales.Target</th>\n",
       "      <th></th>\n",
       "      <th></th>\n",
       "      <th></th>\n",
       "      <th></th>\n",
       "      <th></th>\n",
       "      <th></th>\n",
       "      <th></th>\n",
       "      <th></th>\n",
       "      <th></th>\n",
       "      <th></th>\n",
       "      <th></th>\n",
       "      <th></th>\n",
       "      <th></th>\n",
       "      <th></th>\n",
       "      <th></th>\n",
       "    </tr>\n",
       "  </thead>\n",
       "  <tbody>\n",
       "    <tr>\n",
       "      <th>Meets Target</th>\n",
       "      <td>85</td>\n",
       "      <td>10477</td>\n",
       "      <td>123.0</td>\n",
       "      <td>356408.0</td>\n",
       "      <td>4193.0</td>\n",
       "      <td>70</td>\n",
       "      <td>1.0</td>\n",
       "      <td>90</td>\n",
       "      <td>1.0</td>\n",
       "      <td>311</td>\n",
       "      <td>4.0</td>\n",
       "      <td>728</td>\n",
       "      <td>9.0</td>\n",
       "      <td>189</td>\n",
       "      <td>2.0</td>\n",
       "    </tr>\n",
       "    <tr>\n",
       "      <th>Misses Target</th>\n",
       "      <td>1274</td>\n",
       "      <td>136018</td>\n",
       "      <td>107.0</td>\n",
       "      <td>285665.0</td>\n",
       "      <td>224.0</td>\n",
       "      <td>618</td>\n",
       "      <td>0.0</td>\n",
       "      <td>629</td>\n",
       "      <td>0.0</td>\n",
       "      <td>4544</td>\n",
       "      <td>4.0</td>\n",
       "      <td>8785</td>\n",
       "      <td>7.0</td>\n",
       "      <td>1982</td>\n",
       "      <td>2.0</td>\n",
       "    </tr>\n",
       "  </tbody>\n",
       "</table>\n",
       "</div>"
      ],
      "text/plain": [
       "                   CHP ID Households Registered                  Sales  \\\n",
       "                   # CHPs                 # HHs Avg.CHP.Size KES Sales   \n",
       "Meets.Sales.Target                                                       \n",
       "Meets Target           85                 10477        123.0  356408.0   \n",
       "Misses Target        1274                136018        107.0  285665.0   \n",
       "\n",
       "                                      Pregnancy                 \\\n",
       "                   Avg.CHP Sales # Pregoz Cases Avg.CHP Pregoz   \n",
       "Meets.Sales.Target                                               \n",
       "Meets Target              4193.0             70            1.0   \n",
       "Misses Target              224.0            618            0.0   \n",
       "\n",
       "                   Community Events                All Malaria Assessments  \\\n",
       "                           # Events Avg.CHP Events         # Malaria Cases   \n",
       "Meets.Sales.Target                                                           \n",
       "Meets Target                     90            1.0                     311   \n",
       "Misses Target                   629            0.0                    4544   \n",
       "\n",
       "                                   Total U5 Assessments             \\\n",
       "                   Avg.CHP Malaria        # Child Cases Avg.CHP U5   \n",
       "Meets.Sales.Target                                                   \n",
       "Meets Target                   4.0                  728        9.0   \n",
       "Misses Target                  4.0                 8785        7.0   \n",
       "\n",
       "                   Total U1 Assessments             \n",
       "                             # U1 Cases Avg.CHP U1  \n",
       "Meets.Sales.Target                                  \n",
       "Meets Target                        189        2.0  \n",
       "Misses Target                      1982        2.0  "
      ]
     },
     "execution_count": 13,
     "metadata": {},
     "output_type": "execute_result"
    },
    {
     "name": "stdout",
     "output_type": "stream",
     "text": [
      "\n",
      "\n",
      "\n"
     ]
    }
   ],
   "source": [
    "print(\"\\n4. Sample Tallies by Sales Target buckets\")\n",
    "sampleStructure(dataset, \"Meets.Sales.Target\") \n",
    "print(\"\\n\\n\")"
   ]
  },
  {
   "cell_type": "markdown",
   "metadata": {},
   "source": [
    "** t-tests on the means** "
   ]
  },
  {
   "cell_type": "code",
   "execution_count": 17,
   "metadata": {
    "scrolled": false
   },
   "outputs": [
    {
     "name": "stdout",
     "output_type": "stream",
     "text": [
      "a. t-test Sales means between those that meet sales target and those that don't \n"
     ]
    },
    {
     "data": {
      "text/plain": [
       "Ttest_indResult(statistic=44.517299519151408, pvalue=1.408771904068549e-267)"
      ]
     },
     "execution_count": 17,
     "metadata": {},
     "output_type": "execute_result"
    },
    {
     "name": "stdout",
     "output_type": "stream",
     "text": [
      "\n",
      "\n",
      "\n",
      "b. t-test Household registration means between those that meet sales target and those that don't \n"
     ]
    },
    {
     "data": {
      "text/plain": [
       "Ttest_indResult(statistic=4.0346041337535041, pvalue=5.774467316712684e-05)"
      ]
     },
     "execution_count": 17,
     "metadata": {},
     "output_type": "execute_result"
    },
    {
     "name": "stdout",
     "output_type": "stream",
     "text": [
      "\n",
      "\n",
      "\n",
      "c. t-test Total child assessments means between those that meet sales target and those that don't \n"
     ]
    },
    {
     "data": {
      "text/plain": [
       "Ttest_indResult(statistic=2.8884203832147652, pvalue=0.003933269344949631)"
      ]
     },
     "execution_count": 17,
     "metadata": {},
     "output_type": "execute_result"
    },
    {
     "name": "stdout",
     "output_type": "stream",
     "text": [
      "\n",
      "\n",
      "\n",
      "d. t-test all malaria assessments means between those that meet sales target and those that don't \n"
     ]
    },
    {
     "data": {
      "text/plain": [
       "Ttest_indResult(statistic=0.16285198887426511, pvalue=0.87065922058432765)"
      ]
     },
     "execution_count": 17,
     "metadata": {},
     "output_type": "execute_result"
    },
    {
     "name": "stdout",
     "output_type": "stream",
     "text": [
      "\n",
      "\n",
      "\n",
      "e. t-test pregnacy means between those that meet sales target and those that don't \n"
     ]
    },
    {
     "data": {
      "text/plain": [
       "Ttest_indResult(statistic=3.7805786498329716, pvalue=0.0001632565828962773)"
      ]
     },
     "execution_count": 17,
     "metadata": {},
     "output_type": "execute_result"
    },
    {
     "name": "stdout",
     "output_type": "stream",
     "text": [
      "\n",
      "\n",
      "\n",
      "f. t-test total U1 assessments means between those that meet sales target and those that don't \n"
     ]
    },
    {
     "data": {
      "text/plain": [
       "Ttest_indResult(statistic=3.4106930414552799, pvalue=0.00066701337703907026)"
      ]
     },
     "execution_count": 17,
     "metadata": {},
     "output_type": "execute_result"
    },
    {
     "name": "stdout",
     "output_type": "stream",
     "text": [
      "\n",
      "\n",
      "\n"
     ]
    }
   ],
   "source": [
    "from scipy.stats import ttest_ind \n",
    "\n",
    "print( \"a. t-test Sales means between those that meet sales target and those that don't \")\n",
    "ttest_ind( dataset[dataset[\"Meets.Sales.Target\"] == \"Meets Target\"][\"Sales\"], dataset[dataset[\"Meets.Sales.Target\"] == \"Misses Target\"][\"Sales\"])\n",
    "\n",
    "print(\"\\n\\n\")\n",
    "\n",
    "print( \"b. t-test Household registration means between those that meet sales target and those that don't \")\n",
    "ttest_ind( dataset[dataset[\"Meets.Sales.Target\"] == \"Meets Target\"][\"Households Registered\"], dataset[dataset[\"Meets.Sales.Target\"] == \"Misses Target\"][\"Households Registered\"])\n",
    "\n",
    "\n",
    "print(\"\\n\\n\")\n",
    "\n",
    "print( \"c. t-test Total child assessments means between those that meet sales target and those that don't \")\n",
    "ttest_ind( dataset[dataset[\"Meets.Sales.Target\"] == \"Meets Target\"][\"Total Child Assessments\"], dataset[dataset[\"Meets.Sales.Target\"] == \"Misses Target\"][\"Total Child Assessments\"])\n",
    "\n",
    "print(\"\\n\\n\")\n",
    "\n",
    "print( \"d. t-test all malaria assessments means between those that meet sales target and those that don't \")\n",
    "ttest_ind( dataset[dataset[\"Meets.Sales.Target\"] == \"Meets Target\"][\"All Malaria Assessments\"], dataset[dataset[\"Meets.Sales.Target\"] == \"Misses Target\"][\"All Malaria Assessments\"])\n",
    "\n",
    "\n",
    "print(\"\\n\\n\")\n",
    "\n",
    "print( \"e. t-test pregnacy means between those that meet sales target and those that don't \")\n",
    "ttest_ind( dataset[dataset[\"Meets.Sales.Target\"] == \"Meets Target\"][\"Pregnancy\"], dataset[dataset[\"Meets.Sales.Target\"] == \"Misses Target\"][\"Pregnancy\"])\n",
    "\n",
    "\n",
    "print(\"\\n\\n\")\n",
    "\n",
    "print( \"f. t-test total U1 assessments means between those that meet sales target and those that don't \")\n",
    "ttest_ind( dataset[dataset[\"Meets.Sales.Target\"] == \"Meets Target\"][\"Total U1 Assessments\"], dataset[dataset[\"Meets.Sales.Target\"] == \"Misses Target\"][\"Total U1 Assessments\"])\n",
    "\n",
    "\n",
    "\n",
    "print(\"\\n\\n\")\n"
   ]
  },
  {
   "cell_type": "markdown",
   "metadata": {},
   "source": [
    "\n",
    "**SUMMARY**\n",
    "Working with two groups - 1). Meets Target and 2). Misses Target\n",
    "\n",
    "- Both groups have association between community events and child assessments. \n",
    "    - May be community events are used for child assessments or child assessments are mobilization tool for community events. \n",
    "\n",
    "\n",
    "- Both groups have little or no association for sales and other activities\n",
    "    - No clear association of community events (or the health activities) with sales \n",
    "\n",
    "\n",
    "- CHPs that meet targets may be indicative of what a productive/good CHP is.\n",
    "    - They have higher averages and t-tests on the same show that the  mean differences are statistically significant. \n",
    "    - Wonder how their recruitment scores relate and how they can be identified during recruitment. Can we hire more of this type of CHP? \n",
    "\n",
    "\n",
    "- CHPs that meet targets seem to have a focused approach to their tasks in that they potentially focus on one priority task at a time.  \n",
    "    - They may not be combining child care with a sales pitch for instance. They have negative correlations (but very small in magnitude) on \"competing\" activities.  \n",
    "        - May be care delivery context does not work well for closing a sale?? \n",
    "    - Pregnancy is, however, potentially piggy-backed on the other activities. \n",
    "\n",
    "\n",
    "\n",
    "#### Meets Sales Target\n",
    "- 85 or 6% of the CHPs have met sales target in the period. \n",
    "\n",
    "\n",
    "- This group also has higher average household registrations, average pregnancy per CHP and average child assessments per CHP. \n",
    "    - t-tests on diferences between those means show statistically significant differences in the means. \n",
    "    - They are potentially a representation of strong CHPs.\n",
    "        - TBD: How does ther performance relate to their graduation scores?\n",
    "\n",
    "- Ableit small in magnitude, there are negative correlations\n",
    "    - Household registration has negative association with community events and child assessment. \n",
    "    - Sales have negative association with child assessments\n",
    "    \n",
    "- Pregnancy registration are most associated with household registration.\n",
    "    - Wonder if they register more new households during the year (after graduation) compared to those that don't meet targets.\n",
    "\n",
    "- Sales have little or no association with the other activities. \n",
    "\n",
    "- Community events are associated with child assessments.  \n",
    "    "
   ]
  },
  {
   "cell_type": "code",
   "execution_count": 15,
   "metadata": {
    "scrolled": true
   },
   "outputs": [
    {
     "name": "stdout",
     "output_type": "stream",
     "text": [
      "1. Correlations for Meets Sales Targett\n"
     ]
    },
    {
     "data": {
      "text/html": [
       "<div>\n",
       "<style>\n",
       "    .dataframe thead tr:only-child th {\n",
       "        text-align: right;\n",
       "    }\n",
       "\n",
       "    .dataframe thead th {\n",
       "        text-align: left;\n",
       "    }\n",
       "\n",
       "    .dataframe tbody tr th {\n",
       "        vertical-align: top;\n",
       "    }\n",
       "</style>\n",
       "<table border=\"1\" class=\"dataframe\">\n",
       "  <thead>\n",
       "    <tr style=\"text-align: right;\">\n",
       "      <th></th>\n",
       "      <th>Households Registered</th>\n",
       "      <th>Sales</th>\n",
       "      <th>Community Events</th>\n",
       "      <th>Total Child Assessments</th>\n",
       "      <th>Pregnancy</th>\n",
       "    </tr>\n",
       "  </thead>\n",
       "  <tbody>\n",
       "    <tr>\n",
       "      <th>Households Registered</th>\n",
       "      <td>1.000</td>\n",
       "      <td>0.024</td>\n",
       "      <td>-0.144</td>\n",
       "      <td>-0.113</td>\n",
       "      <td>0.316</td>\n",
       "    </tr>\n",
       "    <tr>\n",
       "      <th>Sales</th>\n",
       "      <td>0.024</td>\n",
       "      <td>1.000</td>\n",
       "      <td>0.097</td>\n",
       "      <td>-0.087</td>\n",
       "      <td>0.088</td>\n",
       "    </tr>\n",
       "    <tr>\n",
       "      <th>Community Events</th>\n",
       "      <td>-0.144</td>\n",
       "      <td>0.097</td>\n",
       "      <td>1.000</td>\n",
       "      <td>0.468</td>\n",
       "      <td>0.113</td>\n",
       "    </tr>\n",
       "    <tr>\n",
       "      <th>Total Child Assessments</th>\n",
       "      <td>-0.113</td>\n",
       "      <td>-0.087</td>\n",
       "      <td>0.468</td>\n",
       "      <td>1.000</td>\n",
       "      <td>0.298</td>\n",
       "    </tr>\n",
       "    <tr>\n",
       "      <th>Pregnancy</th>\n",
       "      <td>0.316</td>\n",
       "      <td>0.088</td>\n",
       "      <td>0.113</td>\n",
       "      <td>0.298</td>\n",
       "      <td>1.000</td>\n",
       "    </tr>\n",
       "  </tbody>\n",
       "</table>\n",
       "</div>"
      ],
      "text/plain": [
       "                         Households Registered  Sales  Community Events  \\\n",
       "Households Registered                    1.000  0.024            -0.144   \n",
       "Sales                                    0.024  1.000             0.097   \n",
       "Community Events                        -0.144  0.097             1.000   \n",
       "Total Child Assessments                 -0.113 -0.087             0.468   \n",
       "Pregnancy                                0.316  0.088             0.113   \n",
       "\n",
       "                         Total Child Assessments  Pregnancy  \n",
       "Households Registered                     -0.113      0.316  \n",
       "Sales                                     -0.087      0.088  \n",
       "Community Events                           0.468      0.113  \n",
       "Total Child Assessments                    1.000      0.298  \n",
       "Pregnancy                                  0.298      1.000  "
      ]
     },
     "execution_count": 15,
     "metadata": {},
     "output_type": "execute_result"
    },
    {
     "name": "stdout",
     "output_type": "stream",
     "text": [
      "1b. Visual for Correlations for Meets Sales Targett\n"
     ]
    },
    {
     "data": {
      "text/plain": [
       "<matplotlib.axes._subplots.AxesSubplot at 0x2756a9a6a58>"
      ]
     },
     "execution_count": 15,
     "metadata": {},
     "output_type": "execute_result"
    },
    {
     "data": {
      "image/png": "[encoded data removed]",
      "text/plain": [
       "<matplotlib.figure.Figure at 0x2756a87b6a0>"
      ]
     },
     "metadata": {},
     "output_type": "display_data"
    }
   ],
   "source": [
    "print( \"1. Correlations for Meets Sales Targett\") \n",
    "c1=corrz(dataset[ dataset[\"Meets.Sales.Target\"] == \"Meets Target\"], argz_EPMs, \"spearman\") \n",
    "c1\n",
    "\n",
    "print( \"1b. Visual for Correlations for Meets Sales Targett\")\n",
    "plotCorrz(c1)"
   ]
  },
  {
   "cell_type": "markdown",
   "metadata": {},
   "source": [
    "#### Misses Sales Target\n",
    "- 94% missed sales target of KES 2040.\n",
    "\n",
    "\n",
    "- This group has similar averages per CHP with the \"meet target\" group for malaria. \n",
    "    - t-tests on diferences between those means show that the groups/means are not statistically significant. They are indeed the similar populations  \n",
    "\n",
    "\n",
    "- This group has no negative correlations. \n",
    "\n",
    "\n",
    "- Households registration is more associated with Sales and pregnancy (0.15: 0.153 and 0.147 respectively). \n",
    "    - Could this group be pitching sales during household visits more than the other group? \n",
    "    - The magnitudes are low, though \n",
    "\n",
    "- Magnitude of sales correlations are larger for this group. However, sales are more associated with child assessment than with community events. \n",
    "    - the group that meets sales target has a negative correlation with child assessment. \n",
    "    - This group likely makes a sales pitch around each child assessment while the other group doesn't. \n",
    "    - **Could it be that pitching during care delivery is not good for closing a sale?** \n",
    "    \n",
    "- Community events are more associated with child assessment for this group as well. \n",
    "    \n",
    "\n",
    "- Pregnancy and child assessment are associated for this group (0.305) just like in the other group, but for this group pregnancy is not as associated with household registration\n",
    "    - "
   ]
  },
  {
   "cell_type": "code",
   "execution_count": 16,
   "metadata": {
    "scrolled": true
   },
   "outputs": [
    {
     "name": "stdout",
     "output_type": "stream",
     "text": [
      "2. Correlations for Misses Sales Targett\n"
     ]
    },
    {
     "data": {
      "text/html": [
       "<div>\n",
       "<style>\n",
       "    .dataframe thead tr:only-child th {\n",
       "        text-align: right;\n",
       "    }\n",
       "\n",
       "    .dataframe thead th {\n",
       "        text-align: left;\n",
       "    }\n",
       "\n",
       "    .dataframe tbody tr th {\n",
       "        vertical-align: top;\n",
       "    }\n",
       "</style>\n",
       "<table border=\"1\" class=\"dataframe\">\n",
       "  <thead>\n",
       "    <tr style=\"text-align: right;\">\n",
       "      <th></th>\n",
       "      <th>Households Registered</th>\n",
       "      <th>Sales</th>\n",
       "      <th>Community Events</th>\n",
       "      <th>Total Child Assessments</th>\n",
       "      <th>Pregnancy</th>\n",
       "    </tr>\n",
       "  </thead>\n",
       "  <tbody>\n",
       "    <tr>\n",
       "      <th>Households Registered</th>\n",
       "      <td>1.000</td>\n",
       "      <td>0.153</td>\n",
       "      <td>0.038</td>\n",
       "      <td>0.096</td>\n",
       "      <td>0.147</td>\n",
       "    </tr>\n",
       "    <tr>\n",
       "      <th>Sales</th>\n",
       "      <td>0.153</td>\n",
       "      <td>1.000</td>\n",
       "      <td>0.137</td>\n",
       "      <td>0.177</td>\n",
       "      <td>0.053</td>\n",
       "    </tr>\n",
       "    <tr>\n",
       "      <th>Community Events</th>\n",
       "      <td>0.038</td>\n",
       "      <td>0.137</td>\n",
       "      <td>1.000</td>\n",
       "      <td>0.375</td>\n",
       "      <td>0.115</td>\n",
       "    </tr>\n",
       "    <tr>\n",
       "      <th>Total Child Assessments</th>\n",
       "      <td>0.096</td>\n",
       "      <td>0.177</td>\n",
       "      <td>0.375</td>\n",
       "      <td>1.000</td>\n",
       "      <td>0.305</td>\n",
       "    </tr>\n",
       "    <tr>\n",
       "      <th>Pregnancy</th>\n",
       "      <td>0.147</td>\n",
       "      <td>0.053</td>\n",
       "      <td>0.115</td>\n",
       "      <td>0.305</td>\n",
       "      <td>1.000</td>\n",
       "    </tr>\n",
       "  </tbody>\n",
       "</table>\n",
       "</div>"
      ],
      "text/plain": [
       "                         Households Registered  Sales  Community Events  \\\n",
       "Households Registered                    1.000  0.153             0.038   \n",
       "Sales                                    0.153  1.000             0.137   \n",
       "Community Events                         0.038  0.137             1.000   \n",
       "Total Child Assessments                  0.096  0.177             0.375   \n",
       "Pregnancy                                0.147  0.053             0.115   \n",
       "\n",
       "                         Total Child Assessments  Pregnancy  \n",
       "Households Registered                      0.096      0.147  \n",
       "Sales                                      0.177      0.053  \n",
       "Community Events                           0.375      0.115  \n",
       "Total Child Assessments                    1.000      0.305  \n",
       "Pregnancy                                  0.305      1.000  "
      ]
     },
     "execution_count": 16,
     "metadata": {},
     "output_type": "execute_result"
    },
    {
     "name": "stdout",
     "output_type": "stream",
     "text": [
      "2b. Visual for Correlations for Misses Sales Targett\n"
     ]
    },
    {
     "data": {
      "text/plain": [
       "<matplotlib.axes._subplots.AxesSubplot at 0x2756ad95ac8>"
      ]
     },
     "execution_count": 16,
     "metadata": {},
     "output_type": "execute_result"
    },
    {
     "data": {
      "image/png": "[encoded data removed]",
      "text/plain": [
       "<matplotlib.figure.Figure at 0x2756aecdc88>"
      ]
     },
     "metadata": {},
     "output_type": "display_data"
    }
   ],
   "source": [
    "print( \"2. Correlations for Misses Sales Targett\") \n",
    "c1=corrz(dataset[ dataset[\"Meets.Sales.Target\"] == \"Misses Target\"], argz_EPMs, \"spearman\") \n",
    "c1\n",
    "\n",
    "print( \"2b. Visual for Correlations for Misses Sales Targett\")\n",
    "plotCorrz(c1)"
   ]
  },
  {
   "cell_type": "markdown",
   "metadata": {
    "collapsed": true
   },
   "source": [
    "#### Regressions\n"
   ]
  },
  {
   "cell_type": "code",
   "execution_count": null,
   "metadata": {
    "collapsed": true
   },
   "outputs": [],
   "source": [
    "## Using R\n"
   ]
  },
  {
   "cell_type": "code",
   "execution_count": null,
   "metadata": {
    "collapsed": true
   },
   "outputs": [],
   "source": []
  }
 ],
 "metadata": {
  "kernelspec": {
   "display_name": "Python 3",
   "language": "python",
   "name": "python3"
  },
  "language_info": {
   "codemirror_mode": {
    "name": "ipython",
    "version": 3
   },
   "file_extension": ".py",
   "mimetype": "text/x-python",
   "name": "python",
   "nbconvert_exporter": "python",
   "pygments_lexer": "ipython3",
   "version": "3.6.3"
  },
  "toc": {
   "nav_menu": {},
   "number_sections": true,
   "sideBar": true,
   "skip_h1_title": false,
   "title_cell": "Table of Contents",
   "title_sidebar": "Contents",
   "toc_cell": true,
   "toc_position": {},
   "toc_section_display": true,
   "toc_window_display": false
  }
 },
 "nbformat": 4,
 "nbformat_minor": 2
}
